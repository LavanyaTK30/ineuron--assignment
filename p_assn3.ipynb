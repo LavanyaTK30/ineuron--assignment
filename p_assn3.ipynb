{
  "nbformat": 4,
  "nbformat_minor": 0,
  "metadata": {
    "colab": {
      "name": "p-assn3.ipynb",
      "provenance": [],
      "collapsed_sections": []
    },
    "kernelspec": {
      "name": "python3",
      "display_name": "Python 3"
    },
    "language_info": {
      "name": "python"
    }
  },
  "cells": [
    {
      "cell_type": "code",
      "execution_count": null,
      "metadata": {
        "id": "-ziUPMz9lpfY"
      },
      "outputs": [],
      "source": [
        ""
      ]
    },
    {
      "cell_type": "code",
      "source": [
        "num = int(input(\"Enter a number: \"))\n",
        "if num > 0:\n",
        "   print(\"Positive number\")\n",
        "elif num == 0:\n",
        "   print(\"Zero\")\n",
        "else:\n",
        "   print(\"Negative number\")"
      ],
      "metadata": {
        "colab": {
          "base_uri": "https://localhost:8080/"
        },
        "id": "BpitUK09xcfb",
        "outputId": "88a344c8-efe7-4b3d-d8e8-691aa31b1332"
      },
      "execution_count": null,
      "outputs": [
        {
          "output_type": "stream",
          "name": "stdout",
          "text": [
            "Enter a number: 0\n",
            "Zero\n"
          ]
        }
      ]
    },
    {
      "cell_type": "code",
      "source": [
        "num = int(input(\"enter a number:  \"))\n",
        "if (num % 2) == 0:\n",
        "  print(\"even\")\n",
        "else:\n",
        "  print(\"odd\")"
      ],
      "metadata": {
        "colab": {
          "base_uri": "https://localhost:8080/"
        },
        "id": "vItC-ykSzv7s",
        "outputId": "6412a0a0-6417-42a0-dec2-e1c9d8339ffb"
      },
      "execution_count": null,
      "outputs": [
        {
          "output_type": "stream",
          "name": "stdout",
          "text": [
            "enter a number:  5\n",
            "odd\n"
          ]
        }
      ]
    },
    {
      "cell_type": "code",
      "source": [
        "year = int(input(\"enter the year\"))\n",
        "if (year % 4 == 0 and year % 100 != 0 or year % 400 == 0):\n",
        "    print(\"  is leap year\")\n",
        "else:\n",
        "  print(\"    is not leap year\")"
      ],
      "metadata": {
        "colab": {
          "base_uri": "https://localhost:8080/"
        },
        "id": "-f6gJnFR1_Ey",
        "outputId": "c0eea59f-b332-4846-cdd2-96ef3f132860"
      },
      "execution_count": null,
      "outputs": [
        {
          "output_type": "stream",
          "name": "stdout",
          "text": [
            "enter the year2010\n",
            "    is not leap year\n"
          ]
        }
      ]
    },
    {
      "cell_type": "code",
      "source": [
        "num= int(input(\"enter the number \"))\n",
        "if num>1:\n",
        "  for i in range(3,num):\n",
        "   if num % i == 0:\n",
        "     print(\"not a prime number\")\n",
        "     break\n",
        "   else:\n",
        "    print(\"is a prime number\")"
      ],
      "metadata": {
        "id": "vg9bCQqyBOxy",
        "colab": {
          "base_uri": "https://localhost:8080/"
        },
        "outputId": "aa6493af-6dbd-4a72-8f17-88ef39afd73e"
      },
      "execution_count": 8,
      "outputs": [
        {
          "output_type": "stream",
          "name": "stdout",
          "text": [
            "enter the number 9\n",
            "not a prime number\n"
          ]
        }
      ]
    },
    {
      "cell_type": "code",
      "source": [
        "lower = int(input(\"enter the number \"))\n",
        "upper = int(input(\"enter the number \"))\n",
        "for num in range(lower,upper +1):\n",
        "  if num >1:\n",
        "    for i in range(2,num):\n",
        "      if num % i ==0:\n",
        "       break\n",
        "      else:\n",
        "       print(num)\n"
      ],
      "metadata": {
        "id": "LQaxZKCuirFA",
        "colab": {
          "base_uri": "https://localhost:8080/"
        },
        "outputId": "716d1a24-0862-43bc-c624-57f44dcd00f4"
      },
      "execution_count": 12,
      "outputs": [
        {
          "output_type": "stream",
          "name": "stdout",
          "text": [
            "enter the number 1\n",
            "enter the number 10\n",
            "3\n",
            "5\n",
            "5\n",
            "5\n",
            "7\n",
            "7\n",
            "7\n",
            "7\n",
            "7\n",
            "9\n"
          ]
        }
      ]
    },
    {
      "cell_type": "code",
      "source": [
        ""
      ],
      "metadata": {
        "id": "k9iEyXdYqjVO"
      },
      "execution_count": null,
      "outputs": []
    }
  ]
}