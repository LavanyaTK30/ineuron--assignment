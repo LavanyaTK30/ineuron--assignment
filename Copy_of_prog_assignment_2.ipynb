{
  "nbformat": 4,
  "nbformat_minor": 0,
  "metadata": {
    "colab": {
      "name": "Copy of prog assignment 2",
      "provenance": [],
      "authorship_tag": "ABX9TyOPuw7wClhnymkiuE4u53A2",
      "include_colab_link": true
    },
    "kernelspec": {
      "name": "python3",
      "display_name": "Python 3"
    },
    "language_info": {
      "name": "python"
    }
  },
  "cells": [
    {
      "cell_type": "markdown",
      "metadata": {
        "id": "view-in-github",
        "colab_type": "text"
      },
      "source": [
        "<a href=\"https://colab.research.google.com/github/LavanyaTK30/python-assignment/blob/main/Copy_of_prog_assignment_2.ipynb\" target=\"_parent\"><img src=\"https://colab.research.google.com/assets/colab-badge.svg\" alt=\"Open In Colab\"/></a>"
      ]
    },
    {
      "cell_type": "code",
      "execution_count": null,
      "metadata": {
        "colab": {
          "base_uri": "https://localhost:8080/"
        },
        "id": "xP8aF7wZjBIj",
        "outputId": "598ba18f-a1d3-4a07-892b-44109c3baecc"
      },
      "outputs": [
        {
          "output_type": "stream",
          "name": "stdout",
          "text": [
            "enter the value of distance5.7\n",
            "5.7 is equal to 3.5418147 \n"
          ]
        }
      ],
      "source": [
        "km = float(input(\"enter the value of distance\"))\n",
        "convert = 0.621371\n",
        "miles= km * convert\n",
        "print(f\"{km} is equal to {miles } \")"
      ]
    },
    {
      "cell_type": "code",
      "source": [
        "#convert celcius to farenheit\n",
        "\n",
        "c = float(input(\"enter the celcius: \"))\n",
        "f = (c * 1.8) + 32\n",
        "print (f\"{c} is equal to {f}\")"
      ],
      "metadata": {
        "colab": {
          "base_uri": "https://localhost:8080/"
        },
        "id": "tSTqPyPJjDdy",
        "outputId": "c2545d6c-b028-4fac-aa29-e566ff0f4ce7"
      },
      "execution_count": null,
      "outputs": [
        {
          "output_type": "stream",
          "name": "stdout",
          "text": [
            "enter the celcius: 37\n",
            "37.0 is equal to 98.60000000000001\n"
          ]
        }
      ]
    },
    {
      "cell_type": "code",
      "source": [
        "#swap two variables\n",
        "a =19\n",
        "b = 20\n",
        "a,b = b,a \n",
        "print(a,b)"
      ],
      "metadata": {
        "colab": {
          "base_uri": "https://localhost:8080/"
        },
        "id": "jIhQiCc7jNFE",
        "outputId": "fa9dfdf6-9aa1-4e64-d9a0-56dc2046581c"
      },
      "execution_count": null,
      "outputs": [
        {
          "output_type": "stream",
          "name": "stdout",
          "text": [
            "20 19\n"
          ]
        }
      ]
    },
    {
      "cell_type": "code",
      "source": [
        "#display calendar\n",
        "import calendar\n",
        "\n",
        "cal = calendar.month(2012, 10)\n",
        "print(cal)"
      ],
      "metadata": {
        "colab": {
          "base_uri": "https://localhost:8080/"
        },
        "id": "KqHtalUljUSg",
        "outputId": "f4ae0332-a2b1-46f8-dd94-d2a7ec600d82"
      },
      "execution_count": null,
      "outputs": [
        {
          "output_type": "stream",
          "name": "stdout",
          "text": [
            "    October 2012\n",
            "Mo Tu We Th Fr Sa Su\n",
            " 1  2  3  4  5  6  7\n",
            " 8  9 10 11 12 13 14\n",
            "15 16 17 18 19 20 21\n",
            "22 23 24 25 26 27 28\n",
            "29 30 31\n",
            "\n"
          ]
        }
      ]
    },
    {
      "cell_type": "code",
      "source": [
        "#quadratic equation\n",
        "import cmath\n",
        "a = int(input(\"enter the value of a: \"))\n",
        "b = int(input(\"enter the value of b: \"))\n",
        "c = int(input(\"enter the value of c: \"))\n",
        "\n",
        "dis = (b**2) - (4*a*c)\n",
        "\n",
        "root1 = (-b +cmath.sqrt(dis))/(2*a)\n",
        "root2 = (-b -cmath.sqrt(dis))/(2*a)\n",
        "print(\"two distinct real roots are {} %.2f and {} %.2f\")"
      ],
      "metadata": {
        "colab": {
          "base_uri": "https://localhost:8080/"
        },
        "id": "7J6CAdBVjcdm",
        "outputId": "3886402b-2a24-4275-d122-6d04071da67e"
      },
      "execution_count": null,
      "outputs": [
        {
          "output_type": "stream",
          "name": "stdout",
          "text": [
            "enter the value of a: 4\n",
            "enter the value of b: 6\n",
            "enter the value of c: 8\n",
            "two distinct real roots are {} %.2f and {} %.2f\n"
          ]
        }
      ]
    },
    {
      "cell_type": "code",
      "source": [
        ""
      ],
      "metadata": {
        "id": "pP0sYR_ljx2J"
      },
      "execution_count": null,
      "outputs": []
    }
  ]
}