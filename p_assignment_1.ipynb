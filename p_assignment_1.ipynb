{
  "nbformat": 4,
  "nbformat_minor": 0,
  "metadata": {
    "colab": {
      "name": "p.assignment 1",
      "provenance": [],
      "collapsed_sections": []
    },
    "kernelspec": {
      "name": "python3",
      "display_name": "Python 3"
    },
    "language_info": {
      "name": "python"
    }
  },
  "cells": [
    {
      "cell_type": "code",
      "execution_count": null,
      "metadata": {
        "colab": {
          "base_uri": "https://localhost:8080/"
        },
        "id": "o9Egz4xs0tEI",
        "outputId": "729d325a-a29c-4981-c8da-0e4f244d8b4e"
      },
      "outputs": [
        {
          "output_type": "stream",
          "name": "stdout",
          "text": [
            "hello world\n"
          ]
        }
      ],
      "source": [
        "print(\"hello world\")"
      ]
    },
    {
      "cell_type": "code",
      "source": [
        "a = 5\n",
        "b = 6\n",
        "print(a+b)\n",
        "print(a/b)"
      ],
      "metadata": {
        "colab": {
          "base_uri": "https://localhost:8080/"
        },
        "id": "wtbY8GLD0xrW",
        "outputId": "62768581-6502-41b8-89fc-26e109a91a9c"
      },
      "execution_count": null,
      "outputs": [
        {
          "output_type": "stream",
          "name": "stdout",
          "text": [
            "11\n",
            "0.8333333333333334\n"
          ]
        }
      ]
    },
    {
      "cell_type": "code",
      "source": [
        "P = int( input(\"Please enter value for P: \"))  \n",
        "Q = int( input(\"Please enter value for Q: \"))  \n",
        "   \n",
        " \n",
        "temp_1 = P  \n",
        "P = Q  \n",
        "Q = temp_1  \n",
        "   \n",
        "print (\"The Value of P after swapping: \", P)  \n",
        "print (\"The Value of Q after swapping: \", Q)  \n"
      ],
      "metadata": {
        "id": "20SNzh1c0_Dm",
        "colab": {
          "base_uri": "https://localhost:8080/"
        },
        "outputId": "9cb4da84-fe48-4da2-eb17-6f0eec963b13"
      },
      "execution_count": null,
      "outputs": [
        {
          "output_type": "stream",
          "name": "stdout",
          "text": [
            "Please enter value for P: 34\n",
            "Please enter value for Q: 56\n",
            "The Value of P after swapping:  56\n",
            "The Value of Q after swapping:  34\n"
          ]
        }
      ]
    },
    {
      "cell_type": "code",
      "source": [
        "import random\n",
        "n = random.randint(0,5)\n",
        "print(n)"
      ],
      "metadata": {
        "colab": {
          "base_uri": "https://localhost:8080/"
        },
        "id": "sQh2srGLMDmb",
        "outputId": "84a0ec70-fb45-4cb5-ffa1-e263336c70c5"
      },
      "execution_count": null,
      "outputs": [
        {
          "output_type": "stream",
          "name": "stdout",
          "text": [
            "3\n"
          ]
        }
      ]
    },
    {
      "cell_type": "code",
      "source": [
        "a = float(input('Enter first side: '))  \n",
        "b = float(input('Enter second side: '))  \n",
        "c = float(input('Enter third side: '))  \n",
        "\n",
        "s = (a + b + c) / 2  \n",
        "area = (s*(s-a)*(s-b)*(s-c)) ** 0.5  \n",
        "print('The area of the triangle is %0.2f' %area)   "
      ],
      "metadata": {
        "colab": {
          "base_uri": "https://localhost:8080/"
        },
        "id": "YZPJPvyCORo2",
        "outputId": "02961d46-6771-4722-e717-788f854736ea"
      },
      "execution_count": null,
      "outputs": [
        {
          "output_type": "stream",
          "name": "stdout",
          "text": [
            "Enter first side: 5\n",
            "Enter second side: 5\n",
            "Enter third side: 7\n",
            "The area of the triangle is 12.50\n"
          ]
        }
      ]
    },
    {
      "cell_type": "code",
      "source": [
        ""
      ],
      "metadata": {
        "id": "b-cMwzE0O5Gz"
      },
      "execution_count": null,
      "outputs": []
    }
  ]
}